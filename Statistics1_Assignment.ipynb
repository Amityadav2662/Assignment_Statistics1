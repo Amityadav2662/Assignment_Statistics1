{
 "cells": [
  {
   "cell_type": "code",
   "execution_count": null,
   "id": "da55e519-1214-4362-bab7-a0ee83d5cd7d",
   "metadata": {},
   "outputs": [],
   "source": [
    "# Q1. What is Statistics?\n",
    "Ans. \n",
    "Statistics is a field of study that involves the collection, analysis, interpretation, presentation, and organization \n",
    "of data. It deals with the methods and techniques used to gather, summarize, and draw conclusions from numerical \n",
    "information."
   ]
  },
  {
   "cell_type": "code",
   "execution_count": null,
   "id": "5ba2adb8-8059-4ba2-90d2-47d204669c9c",
   "metadata": {},
   "outputs": [],
   "source": [
    "# Q2. Define the different types of statistics and give an example of when each type might be used.\n",
    "Ans.\n",
    "1. Descriptive statistics : Descriptive statistics are used to summarize data and describe its main features. \n",
    "They can be used to answer questions such as:\n",
    "What is the average height of the students in my class?\n",
    "What is the most popular color of car in the United States?\n",
    "What is the distribution of income in my country?\n",
    "Some common descriptive statistics include:\n",
    "* Mean\n",
    "* Median\n",
    "* Mode\n",
    "* Standard deviation\n",
    "* Range\n",
    "* Variance\n",
    "\n",
    "2. Inferential statistics: Inferential statistics are used to make inferences about a population based on data from \n",
    "a sample. They can be used to answer questions such as:\n",
    "Do men and women have different average heights?\n",
    "Is there a difference in the average income of people in different states?\n",
    "Is there a relationship between smoking and lung cancer?\n",
    "Some common inferential statistics include:\n",
    "* z-test\n",
    "* t-test\n",
    "* Hypothesis testing\n",
    "* P value\n",
    "* Significant value"
   ]
  },
  {
   "cell_type": "code",
   "execution_count": null,
   "id": "a5b6170c-4e6f-4cba-a7bc-f627bb6318ae",
   "metadata": {},
   "outputs": [],
   "source": [
    "# Q3. What are the different types of data and how do they differ from each other? Provide an example of\n",
    "# each type of data.\n",
    "Ans.\n",
    "There are two types of data\n",
    "1. Qualitative data : Qualitative data is data that is not numerical. It is often described as \"categorical\" or \"nominal\"\n",
    "data. Qualitative data can be used to describe things, but it cannot be used to measure things. Qualitative data can be\n",
    "divided into two types: nominal and ordinal. \n",
    "\n",
    "a. Nominal Data: Nominal data represents categories or labels that do not have a specific order or numerical value \n",
    "associated with them.\n",
    "Examples of nominal data include:\n",
    "gender (male, female), \n",
    "colors (red, blue, green),\n",
    "marital status (single, married, divorced)\n",
    "\n",
    "b. Ordinal Data: Ordinal data represents categories or labels with a natural order or ranking. The difference between \n",
    "categories is not quantifiable, but there is a relative order.\n",
    "Examples of ordinal data include:\n",
    "survey ratings (e.g., Customer feedback : strongly agree, agree, neutral, disagree, strongly disagree)\n",
    "educational levels (e.g., high school, bachelor's degree, master's degree, Ph.D.).\n",
    "\n",
    "2. Quantitative data : Quantitative data is data that is numerical. It can be used to measure things, such as weight, height,\n",
    "or temperature. Quantitative data can be divided into two types: discrete and continuous.\n",
    "\n",
    "a. Discrete data : Discrete data is data that can only take on a finite number of values. \n",
    "Examples of discrete data include:\n",
    "The number of students in a class\n",
    "The number of votes cast in an election\n",
    "The number of leaves on a tree\n",
    "\n",
    "b. Continuous data: Continuous data is data that can take on any value within a certain range.\n",
    "Examples of continuous data include:\n",
    "The height of a person\n",
    "The weight of an object\n",
    "The temperature of a room"
   ]
  },
  {
   "cell_type": "code",
   "execution_count": null,
   "id": "9d8f6a0c-c208-46da-9777-55035fcaea83",
   "metadata": {},
   "outputs": [],
   "source": [
    "# Q4. Categorise the following datasets with respect to quantitative and qualitative data types:\n",
    "(i) Grading in exam: A+, A, B+, B, C+, C, D, E  --> qualitative data(ordinal data)\n",
    "(ii) Colour of mangoes: yellow, green, orange, red --> qualitative data(Nominal data)\n",
    "(iii) Height data of a class: [178.9, 179, 179.5, 176, 177.2, 178.3, 175.8,...] --> quantitative data(continuous data)\n",
    "(iv) Number of mangoes exported by a farm: [500, 600, 478, 672, ...] --> quatitative data(Discrete data)"
   ]
  },
  {
   "cell_type": "code",
   "execution_count": null,
   "id": "beca1764-e8d2-45d0-a634-c22ccbfa168e",
   "metadata": {},
   "outputs": [],
   "source": [
    "# Q5. Explain the concept of levels of measurement and give an example of a variable for each level.\n",
    "Ans.\n",
    "The levels of measurement are a classification of how precisely variables are recorded. There are four levels of measurement:\n",
    "\n",
    "1. Nominal level: The data can only be categorized. There is no order or ranking to the categories. Examples of nominal \n",
    "variables include:\n",
    "Gender (male, female)\n",
    "color (blue, green, brown)\n",
    "\n",
    "2. Ordinal level: The data can be categorized and ranked. There is an order to the categories, but the intervals between\n",
    "the categories are not meaningful. Examples of ordinal variables include:\n",
    "Level of education (high school, college, graduate school)\n",
    "Customer satisfaction (very satisfied, satisfied, neutral, dissatisfied, very dissatisfied)\n",
    "\n",
    "3. Interval level: The data can be categorized, ranked, and the intervals between the categories are meaningful. However, \n",
    "there is no natural zero point. Examples of interval variables include:\n",
    "Temperature \n",
    "Time \n",
    "Score on a test\n",
    "\n",
    "4. Ratio level: The data can be categorized, ranked, the intervals between the categories are meaningful, and there is a\n",
    "natural zero point. Examples of ratio variables include:\n",
    "Height \n",
    "Weight \n",
    "Distance "
   ]
  },
  {
   "cell_type": "code",
   "execution_count": null,
   "id": "8202a603-5dd9-47be-9c35-7b78900cf1c7",
   "metadata": {},
   "outputs": [],
   "source": [
    "# Q6. Why is it important to understand the level of measurement when analyzing data? Provide an\n",
    "# example to illustrate your answer.\n",
    "Ans.\n",
    "The level of measurement is important to understand when analyzing data because it determines the meaning of the data.\n",
    "For example, a nominal variable like gender only tells us the category of a person, such as male or female. There is no\n",
    "order or ranking to the categories, so it would not make sense to calculate the average gender of a group of people.\n",
    "\n",
    "On the other hand, an ordinal variable like customer satisfaction tells us the order of a person's satisfaction, such as \n",
    "very satisfied, satisfied, neutral, dissatisfied, or very dissatisfied. We can calculate the average customer satisfaction\n",
    "of a group of people, but we cannot say that a person who is very satisfied is twice as satisfied as a person who is \n",
    "satisfied.\n",
    "\n",
    "The level of measurement also determines the statistical tests that can be used on the data. For example, nominal variables\n",
    "can only be analyzed using non-parametric statistical tests, while ordinal and ratio variables can be analyzed using both \n",
    "non-parametric and parametric statistical tests."
   ]
  },
  {
   "cell_type": "code",
   "execution_count": null,
   "id": "e26dc1e6-fc70-4ecc-8529-d385d3996516",
   "metadata": {},
   "outputs": [],
   "source": [
    "# Q7. How nominal data type is different from ordinal data type.\n",
    "Ans.\n",
    "1. Nominal data : Nominal data is the most basic level of measurement. It is used to categorize data into mutually \n",
    "exclusive categories. The categories have no order or ranking. For example, gender (male, female), eye color \n",
    "(blue, green, brown) are all nominal data types.\n",
    "\n",
    "2. Ordinal data : Ordinal data is a level of measurement that allows for ordering of data. The categories have a\n",
    "natural order, but the intervals between the categories are not meaningful. For example, level of education \n",
    "(high school, college, graduate school), customer satisfaction (very satisfied, satisfied, neutral, dissatisfied,\n",
    "very dissatisfied) are all ordinal data types."
   ]
  },
  {
   "cell_type": "code",
   "execution_count": null,
   "id": "71555c43-4208-4bd9-a6e1-d92de682c9ec",
   "metadata": {},
   "outputs": [],
   "source": [
    "# Q8. Which type of plot can be used to display data in terms of range?\n",
    "Ans.\n",
    "There are a few different types of plots that can be used to display data in terms of range. These include:\n",
    "\n",
    "1. Box plot: A box plot is a good way to visualize the distribution of data and its range. It shows the minimum\n",
    "and maximum values, the median, and the interquartile range.\n",
    "\n",
    "2. Range plot: A range plot is a simple way to display the range of data. It shows the minimum and maximum values,\n",
    "and the difference between them. \n",
    "\n",
    "3. Histogram: A histogram is a more detailed way to display the distribution of data. It shows the frequency of each\n",
    "value in the data set. \n",
    "\n",
    "4. Scatter plot: A scatter plot can be used to display the range of data if the data is continuous. It shows the \n",
    "relationship between two variables, and the range of each variable can be seen by the spread of the points in\n",
    "the plot. "
   ]
  },
  {
   "cell_type": "code",
   "execution_count": null,
   "id": "bc146f2d-63c1-4be3-b69a-8ab377ea5403",
   "metadata": {},
   "outputs": [],
   "source": [
    "# Q9. Describe the difference between descriptive and inferential statistics. Give an example of each\n",
    "# type of statistics and explain how they are used.\n",
    "Ans.\n",
    "1.Descriptive Statistics:\n",
    "Descriptive statistics involves summarizing, organizing, and presenting data in a meaningful way. It focuses on\n",
    "describing the main features of a dataset, providing a summary or snapshot of the data. \n",
    "for example: A company might use descriptive statistics to summarize the results of a customer satisfaction\n",
    "survey. They might calculate the average customer satisfaction score, the percentage of customers who were satisfied, \n",
    "and the distribution of satisfaction scores.\n",
    "\n",
    "2.Inferential Statistics:\n",
    "Inferential statistics involves making inferences or drawing conclusions about a population based on a sample of \n",
    "data. It extends beyond the observed data to make predictions, generalize findings, and test hypotheses about a \n",
    "larger population.\n",
    "for example: A researcher might use inferential statistics to test whether there is a difference in the\n",
    "average height of men and women. They might collect data on the heights of a sample of men and women and then use \n",
    "a t-test to compare the two groups."
   ]
  },
  {
   "cell_type": "code",
   "execution_count": null,
   "id": "f924e776-bae8-4a77-9681-74586256efef",
   "metadata": {},
   "outputs": [],
   "source": [
    "# Q10. What are some common measures of central tendency and variability used in statistics? Explain\n",
    "# how each measure can be used to describe a dataset.\n",
    "Ans.\n",
    "Measures of central tendency\n",
    "1. Mean: The sum of all measurements divided by the number of observations. This is the most commonly used measure\n",
    "of central tendency.\n",
    "2. Median: The middle value in a distribution, when all the values are ranked from least to greatest.\n",
    "3. Mode: The most frequent value in a distribution.\n",
    "\n",
    "Measures of variability\n",
    "1. Range: The difference between the highest and lowest values in a distribution.\n",
    "Interquartile range (IQR): The difference between the 75th and 25th percentiles in a distribution.\n",
    "2. Standard deviation: A measure of how spread out the values in a distribution are.\n",
    "3. Variance: The square of the standard deviation."
   ]
  },
  {
   "cell_type": "code",
   "execution_count": 12,
   "id": "85cba708-7327-4818-bfa1-f15daa7612a8",
   "metadata": {},
   "outputs": [],
   "source": [
    "import numpy as np\n",
    "import seaborn as sns\n",
    "titanic = sns.load_dataset(\"titanic\")"
   ]
  },
  {
   "cell_type": "code",
   "execution_count": 13,
   "id": "11c1c56c-7659-44ef-89da-19975cef43bd",
   "metadata": {},
   "outputs": [
    {
     "data": {
      "text/html": [
       "<div>\n",
       "<style scoped>\n",
       "    .dataframe tbody tr th:only-of-type {\n",
       "        vertical-align: middle;\n",
       "    }\n",
       "\n",
       "    .dataframe tbody tr th {\n",
       "        vertical-align: top;\n",
       "    }\n",
       "\n",
       "    .dataframe thead th {\n",
       "        text-align: right;\n",
       "    }\n",
       "</style>\n",
       "<table border=\"1\" class=\"dataframe\">\n",
       "  <thead>\n",
       "    <tr style=\"text-align: right;\">\n",
       "      <th></th>\n",
       "      <th>survived</th>\n",
       "      <th>pclass</th>\n",
       "      <th>sex</th>\n",
       "      <th>age</th>\n",
       "      <th>sibsp</th>\n",
       "      <th>parch</th>\n",
       "      <th>fare</th>\n",
       "      <th>embarked</th>\n",
       "      <th>class</th>\n",
       "      <th>who</th>\n",
       "      <th>adult_male</th>\n",
       "      <th>deck</th>\n",
       "      <th>embark_town</th>\n",
       "      <th>alive</th>\n",
       "      <th>alone</th>\n",
       "    </tr>\n",
       "  </thead>\n",
       "  <tbody>\n",
       "    <tr>\n",
       "      <th>0</th>\n",
       "      <td>0</td>\n",
       "      <td>3</td>\n",
       "      <td>male</td>\n",
       "      <td>22.0</td>\n",
       "      <td>1</td>\n",
       "      <td>0</td>\n",
       "      <td>7.2500</td>\n",
       "      <td>S</td>\n",
       "      <td>Third</td>\n",
       "      <td>man</td>\n",
       "      <td>True</td>\n",
       "      <td>NaN</td>\n",
       "      <td>Southampton</td>\n",
       "      <td>no</td>\n",
       "      <td>False</td>\n",
       "    </tr>\n",
       "    <tr>\n",
       "      <th>1</th>\n",
       "      <td>1</td>\n",
       "      <td>1</td>\n",
       "      <td>female</td>\n",
       "      <td>38.0</td>\n",
       "      <td>1</td>\n",
       "      <td>0</td>\n",
       "      <td>71.2833</td>\n",
       "      <td>C</td>\n",
       "      <td>First</td>\n",
       "      <td>woman</td>\n",
       "      <td>False</td>\n",
       "      <td>C</td>\n",
       "      <td>Cherbourg</td>\n",
       "      <td>yes</td>\n",
       "      <td>False</td>\n",
       "    </tr>\n",
       "    <tr>\n",
       "      <th>2</th>\n",
       "      <td>1</td>\n",
       "      <td>3</td>\n",
       "      <td>female</td>\n",
       "      <td>26.0</td>\n",
       "      <td>0</td>\n",
       "      <td>0</td>\n",
       "      <td>7.9250</td>\n",
       "      <td>S</td>\n",
       "      <td>Third</td>\n",
       "      <td>woman</td>\n",
       "      <td>False</td>\n",
       "      <td>NaN</td>\n",
       "      <td>Southampton</td>\n",
       "      <td>yes</td>\n",
       "      <td>True</td>\n",
       "    </tr>\n",
       "    <tr>\n",
       "      <th>3</th>\n",
       "      <td>1</td>\n",
       "      <td>1</td>\n",
       "      <td>female</td>\n",
       "      <td>35.0</td>\n",
       "      <td>1</td>\n",
       "      <td>0</td>\n",
       "      <td>53.1000</td>\n",
       "      <td>S</td>\n",
       "      <td>First</td>\n",
       "      <td>woman</td>\n",
       "      <td>False</td>\n",
       "      <td>C</td>\n",
       "      <td>Southampton</td>\n",
       "      <td>yes</td>\n",
       "      <td>False</td>\n",
       "    </tr>\n",
       "    <tr>\n",
       "      <th>4</th>\n",
       "      <td>0</td>\n",
       "      <td>3</td>\n",
       "      <td>male</td>\n",
       "      <td>35.0</td>\n",
       "      <td>0</td>\n",
       "      <td>0</td>\n",
       "      <td>8.0500</td>\n",
       "      <td>S</td>\n",
       "      <td>Third</td>\n",
       "      <td>man</td>\n",
       "      <td>True</td>\n",
       "      <td>NaN</td>\n",
       "      <td>Southampton</td>\n",
       "      <td>no</td>\n",
       "      <td>True</td>\n",
       "    </tr>\n",
       "  </tbody>\n",
       "</table>\n",
       "</div>"
      ],
      "text/plain": [
       "   survived  pclass     sex   age  sibsp  parch     fare embarked  class  \\\n",
       "0         0       3    male  22.0      1      0   7.2500        S  Third   \n",
       "1         1       1  female  38.0      1      0  71.2833        C  First   \n",
       "2         1       3  female  26.0      0      0   7.9250        S  Third   \n",
       "3         1       1  female  35.0      1      0  53.1000        S  First   \n",
       "4         0       3    male  35.0      0      0   8.0500        S  Third   \n",
       "\n",
       "     who  adult_male deck  embark_town alive  alone  \n",
       "0    man        True  NaN  Southampton    no  False  \n",
       "1  woman       False    C    Cherbourg   yes  False  \n",
       "2  woman       False  NaN  Southampton   yes   True  \n",
       "3  woman       False    C  Southampton   yes  False  \n",
       "4    man        True  NaN  Southampton    no   True  "
      ]
     },
     "execution_count": 13,
     "metadata": {},
     "output_type": "execute_result"
    }
   ],
   "source": [
    "titanic.head()"
   ]
  },
  {
   "cell_type": "code",
   "execution_count": 14,
   "id": "03bc34b3-9bdc-493a-ba57-43620a627381",
   "metadata": {},
   "outputs": [
    {
     "data": {
      "text/plain": [
       "29.69911764705882"
      ]
     },
     "execution_count": 14,
     "metadata": {},
     "output_type": "execute_result"
    }
   ],
   "source": [
    "np.mean(titanic['age'])"
   ]
  },
  {
   "cell_type": "code",
   "execution_count": 15,
   "id": "af302c4f-7215-4b97-896e-25ca0e58fe78",
   "metadata": {},
   "outputs": [
    {
     "data": {
      "text/plain": [
       "14.4542"
      ]
     },
     "execution_count": 15,
     "metadata": {},
     "output_type": "execute_result"
    }
   ],
   "source": [
    "np.median(titanic['fare'])"
   ]
  },
  {
   "cell_type": "code",
   "execution_count": 18,
   "id": "e673d890-872d-4f57-b818-b58ad91cbf60",
   "metadata": {},
   "outputs": [],
   "source": [
    "from scipy import stats"
   ]
  },
  {
   "cell_type": "code",
   "execution_count": 21,
   "id": "8ac64898-9ccc-4346-9f01-3d204756f566",
   "metadata": {},
   "outputs": [
    {
     "name": "stderr",
     "output_type": "stream",
     "text": [
      "/tmp/ipykernel_77/3682211740.py:1: FutureWarning: Unlike other reduction functions (e.g. `skew`, `kurtosis`), the default behavior of `mode` typically preserves the axis it acts along. In SciPy 1.11.0, this behavior will change: the default value of `keepdims` will become False, the `axis` over which the statistic is taken will be eliminated, and the value None will no longer be accepted. Set `keepdims` to True or False to avoid this warning.\n",
      "  stats.mode(titanic[\"who\"])\n",
      "/tmp/ipykernel_77/3682211740.py:1: DeprecationWarning: Support for non-numeric arrays has been deprecated as of SciPy 1.9.0 and will be removed in 1.11.0. `pandas.DataFrame.mode` can be used instead, see https://pandas.pydata.org/docs/reference/api/pandas.DataFrame.mode.html.\n",
      "  stats.mode(titanic[\"who\"])\n"
     ]
    },
    {
     "data": {
      "text/plain": [
       "ModeResult(mode=array(['man'], dtype=object), count=array([537]))"
      ]
     },
     "execution_count": 21,
     "metadata": {},
     "output_type": "execute_result"
    }
   ],
   "source": [
    "stats.mode(titanic[\"who\"])"
   ]
  },
  {
   "cell_type": "code",
   "execution_count": 24,
   "id": "9a9b9185-f4be-4992-bee0-f465d563c486",
   "metadata": {},
   "outputs": [],
   "source": [
    "tip = sns.load_dataset(\"tips\")"
   ]
  },
  {
   "cell_type": "code",
   "execution_count": 25,
   "id": "207fe564-9fd7-4e9b-beac-6f1e6ab6912a",
   "metadata": {},
   "outputs": [
    {
     "name": "stderr",
     "output_type": "stream",
     "text": [
      "/tmp/ipykernel_77/19954772.py:1: FutureWarning: The default value of numeric_only in DataFrame.std is deprecated. In a future version, it will default to False. In addition, specifying 'numeric_only=None' is deprecated. Select only valid columns or specify the value of numeric_only to silence this warning.\n",
      "  tip.std()\n"
     ]
    },
    {
     "data": {
      "text/plain": [
       "total_bill    8.902412\n",
       "tip           1.383638\n",
       "size          0.951100\n",
       "dtype: float64"
      ]
     },
     "execution_count": 25,
     "metadata": {},
     "output_type": "execute_result"
    }
   ],
   "source": [
    "tip.std()"
   ]
  },
  {
   "cell_type": "code",
   "execution_count": 26,
   "id": "a2fec6c6-523f-4e5d-a2ff-5fa1b02334ba",
   "metadata": {},
   "outputs": [
    {
     "name": "stderr",
     "output_type": "stream",
     "text": [
      "/tmp/ipykernel_77/3690670462.py:1: FutureWarning: The default value of numeric_only in DataFrame.var is deprecated. In a future version, it will default to False. In addition, specifying 'numeric_only=None' is deprecated. Select only valid columns or specify the value of numeric_only to silence this warning.\n",
      "  tip.var()\n"
     ]
    },
    {
     "data": {
      "text/plain": [
       "total_bill    79.252939\n",
       "tip            1.914455\n",
       "size           0.904591\n",
       "dtype: float64"
      ]
     },
     "execution_count": 26,
     "metadata": {},
     "output_type": "execute_result"
    }
   ],
   "source": [
    "tip.var()"
   ]
  },
  {
   "cell_type": "code",
   "execution_count": null,
   "id": "16e608b8-b65f-4e84-b062-99f84863130e",
   "metadata": {},
   "outputs": [],
   "source": []
  }
 ],
 "metadata": {
  "kernelspec": {
   "display_name": "Python 3 (ipykernel)",
   "language": "python",
   "name": "python3"
  },
  "language_info": {
   "codemirror_mode": {
    "name": "ipython",
    "version": 3
   },
   "file_extension": ".py",
   "mimetype": "text/x-python",
   "name": "python",
   "nbconvert_exporter": "python",
   "pygments_lexer": "ipython3",
   "version": "3.10.8"
  }
 },
 "nbformat": 4,
 "nbformat_minor": 5
}
